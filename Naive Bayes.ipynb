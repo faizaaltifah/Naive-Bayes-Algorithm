{
  "nbformat": 4,
  "nbformat_minor": 0,
  "metadata": {
    "colab": {
      "provenance": []
    },
    "kernelspec": {
      "name": "python3",
      "display_name": "Python 3"
    },
    "language_info": {
      "name": "python"
    }
  },
  "cells": [
    {
      "cell_type": "markdown",
      "source": [
        "#Import Library"
      ],
      "metadata": {
        "id": "Y5Y-iiRHV305"
      }
    },
    {
      "cell_type": "code",
      "execution_count": null,
      "metadata": {
        "id": "Xz2Jj16OY1ev"
      },
      "outputs": [],
      "source": [
        "import numpy as np\n",
        "import pandas as pd\n",
        "import matplotlib.pyplot as plt\n",
        "import seaborn as sns\n",
        "import timeit\n",
        "from google.colab import drive\n",
        "from sklearn.preprocessing import MinMaxScaler\n",
        "from sklearn.metrics import accuracy_score\n",
        "from sklearn.metrics import mean_squared_error\n",
        "from sklearn.model_selection import cross_val_score, cross_val_predict, StratifiedKFold\n",
        "from sklearn.metrics import confusion_matrix\n",
        "from collections import Counter\n",
        "from statistics import mean\n",
        "sns.set_style('darkgrid')"
      ]
    },
    {
      "cell_type": "markdown",
      "source": [
        "#Import File CSV"
      ],
      "metadata": {
        "id": "3fIsYe5MWdGU"
      }
    },
    {
      "cell_type": "code",
      "source": [
        "from google.colab import drive\n",
        "drive.mount('/content/drive')"
      ],
      "metadata": {
        "colab": {
          "base_uri": "https://localhost:8080/"
        },
        "id": "ZNuhoOXS4iEJ",
        "outputId": "d0fe79db-9ca7-4a9c-fc18-9f13573033fe"
      },
      "execution_count": null,
      "outputs": [
        {
          "output_type": "stream",
          "name": "stdout",
          "text": [
            "Mounted at /content/drive\n"
          ]
        }
      ]
    },
    {
      "cell_type": "code",
      "source": [
        "dataset = pd.read_csv('/content/drive/MyDrive/Semester 5/Machine Learning/UTS/wine.csv')"
      ],
      "metadata": {
        "id": "LRdhQUcfZJWY"
      },
      "execution_count": null,
      "outputs": []
    },
    {
      "cell_type": "markdown",
      "source": [
        "#Data Cleaning"
      ],
      "metadata": {
        "id": "BPreYwDgWg9t"
      }
    },
    {
      "cell_type": "markdown",
      "source": [
        "#### Data yang memiliki nilai nol"
      ],
      "metadata": {
        "id": "0QciuDd6XZ1o"
      }
    },
    {
      "cell_type": "code",
      "source": [
        "dataset.isnull().sum()"
      ],
      "metadata": {
        "colab": {
          "base_uri": "https://localhost:8080/"
        },
        "id": "zK9pc0wpZd80",
        "outputId": "1795dc6c-16e6-47c0-e068-0a05c3865941"
      },
      "execution_count": null,
      "outputs": [
        {
          "output_type": "execute_result",
          "data": {
            "text/plain": [
              "wine_class              0\n",
              "alcohol                 0\n",
              "malic_acid              0\n",
              "ash                     0\n",
              "alcalinity_of_ash       0\n",
              "magnesium               0\n",
              "total_phenols           0\n",
              "flavanoids              0\n",
              "nonflavanoid_phenols    0\n",
              "proanthocyanins         0\n",
              "color_intensity         0\n",
              "hue                     0\n",
              "OD280_or_OD315          0\n",
              "proline                 0\n",
              "dtype: int64"
            ]
          },
          "metadata": {},
          "execution_count": 4
        }
      ]
    },
    {
      "cell_type": "markdown",
      "source": [
        "#### Duplikasi Data"
      ],
      "metadata": {
        "id": "RaA_5YCKY51T"
      }
    },
    {
      "cell_type": "code",
      "source": [
        "duplicate_rows = dataset[dataset.duplicated()]\n",
        "\n",
        "# Menampilkan baris-baris yang merupakan duplikasi\n",
        "print(\"Duplikasi Data:\")\n",
        "print(duplicate_rows)\n",
        "\n",
        "# Menampilkan jumlah duplikasi\n",
        "print(\"Jumlah Duplikasi:\", len(duplicate_rows))"
      ],
      "metadata": {
        "id": "qPSS-XFIY-AO"
      },
      "execution_count": null,
      "outputs": []
    },
    {
      "cell_type": "markdown",
      "source": [
        "#### Type data"
      ],
      "metadata": {
        "id": "NXjSwThvXfFQ"
      }
    },
    {
      "cell_type": "code",
      "source": [
        "dataset.dtypes"
      ],
      "metadata": {
        "colab": {
          "base_uri": "https://localhost:8080/"
        },
        "id": "XdDBrGBFGkSp",
        "outputId": "03fe376e-0e29-475d-92ac-ce77ff969598"
      },
      "execution_count": null,
      "outputs": [
        {
          "output_type": "execute_result",
          "data": {
            "text/plain": [
              "wine_class                int64\n",
              "alcohol                 float64\n",
              "malic_acid              float64\n",
              "ash                     float64\n",
              "alcalinity_of_ash       float64\n",
              "magnesium                 int64\n",
              "total_phenols           float64\n",
              "flavanoids              float64\n",
              "nonflavanoid_phenols    float64\n",
              "proanthocyanins         float64\n",
              "color_intensity         float64\n",
              "hue                     float64\n",
              "OD280_or_OD315          float64\n",
              "proline                   int64\n",
              "dtype: object"
            ]
          },
          "metadata": {},
          "execution_count": 5
        }
      ]
    },
    {
      "cell_type": "markdown",
      "source": [
        "#### Encoding Data"
      ],
      "metadata": {
        "id": "SV7cSF5mYpaR"
      }
    },
    {
      "cell_type": "code",
      "source": [
        "bins = (2, 6.5, 8)\n",
        "labels = ['bad', 'good']\n",
        "dataset['wine_class'] = pd.cut(x = dataset['wine_class'], bins = bins, labels = labels)\n",
        "\n",
        "from sklearn.preprocessing import LabelEncoder\n",
        "labelencoder_y = LabelEncoder()\n",
        "dataset['wine_class'] = labelencoder_y.fit_transform(dataset['wine_class'])\n",
        "\n",
        "dataset.head()"
      ],
      "metadata": {
        "colab": {
          "base_uri": "https://localhost:8080/",
          "height": 206
        },
        "id": "Nxv-I7Jt8FoA",
        "outputId": "130230b3-890a-4b09-aa24-b0f5bd1eb9d5"
      },
      "execution_count": null,
      "outputs": [
        {
          "output_type": "execute_result",
          "data": {
            "text/plain": [
              "   wine_class  alcohol  malic_acid   ash  alcalinity_of_ash  magnesium  \\\n",
              "0           1    14.23        1.71  2.43               15.6        127   \n",
              "1           1    13.20        1.78  2.14               11.2        100   \n",
              "2           1    13.16        2.36  2.67               18.6        101   \n",
              "3           1    14.37        1.95  2.50               16.8        113   \n",
              "4           1    13.24        2.59  2.87               21.0        118   \n",
              "\n",
              "   total_phenols  flavanoids  nonflavanoid_phenols  proanthocyanins  \\\n",
              "0           2.80        3.06                  0.28             2.29   \n",
              "1           2.65        2.76                  0.26             1.28   \n",
              "2           2.80        3.24                  0.30             2.81   \n",
              "3           3.85        3.49                  0.24             2.18   \n",
              "4           2.80        2.69                  0.39             1.82   \n",
              "\n",
              "   color_intensity   hue  OD280_or_OD315  proline  \n",
              "0             5.64  1.04            3.92     1065  \n",
              "1             4.38  1.05            3.40     1050  \n",
              "2             5.68  1.03            3.17     1185  \n",
              "3             7.80  0.86            3.45     1480  \n",
              "4             4.32  1.04            2.93      735  "
            ],
            "text/html": [
              "\n",
              "  <div id=\"df-90485091-e9c4-43f4-b659-cae65958335c\" class=\"colab-df-container\">\n",
              "    <div>\n",
              "<style scoped>\n",
              "    .dataframe tbody tr th:only-of-type {\n",
              "        vertical-align: middle;\n",
              "    }\n",
              "\n",
              "    .dataframe tbody tr th {\n",
              "        vertical-align: top;\n",
              "    }\n",
              "\n",
              "    .dataframe thead th {\n",
              "        text-align: right;\n",
              "    }\n",
              "</style>\n",
              "<table border=\"1\" class=\"dataframe\">\n",
              "  <thead>\n",
              "    <tr style=\"text-align: right;\">\n",
              "      <th></th>\n",
              "      <th>wine_class</th>\n",
              "      <th>alcohol</th>\n",
              "      <th>malic_acid</th>\n",
              "      <th>ash</th>\n",
              "      <th>alcalinity_of_ash</th>\n",
              "      <th>magnesium</th>\n",
              "      <th>total_phenols</th>\n",
              "      <th>flavanoids</th>\n",
              "      <th>nonflavanoid_phenols</th>\n",
              "      <th>proanthocyanins</th>\n",
              "      <th>color_intensity</th>\n",
              "      <th>hue</th>\n",
              "      <th>OD280_or_OD315</th>\n",
              "      <th>proline</th>\n",
              "    </tr>\n",
              "  </thead>\n",
              "  <tbody>\n",
              "    <tr>\n",
              "      <th>0</th>\n",
              "      <td>1</td>\n",
              "      <td>14.23</td>\n",
              "      <td>1.71</td>\n",
              "      <td>2.43</td>\n",
              "      <td>15.6</td>\n",
              "      <td>127</td>\n",
              "      <td>2.80</td>\n",
              "      <td>3.06</td>\n",
              "      <td>0.28</td>\n",
              "      <td>2.29</td>\n",
              "      <td>5.64</td>\n",
              "      <td>1.04</td>\n",
              "      <td>3.92</td>\n",
              "      <td>1065</td>\n",
              "    </tr>\n",
              "    <tr>\n",
              "      <th>1</th>\n",
              "      <td>1</td>\n",
              "      <td>13.20</td>\n",
              "      <td>1.78</td>\n",
              "      <td>2.14</td>\n",
              "      <td>11.2</td>\n",
              "      <td>100</td>\n",
              "      <td>2.65</td>\n",
              "      <td>2.76</td>\n",
              "      <td>0.26</td>\n",
              "      <td>1.28</td>\n",
              "      <td>4.38</td>\n",
              "      <td>1.05</td>\n",
              "      <td>3.40</td>\n",
              "      <td>1050</td>\n",
              "    </tr>\n",
              "    <tr>\n",
              "      <th>2</th>\n",
              "      <td>1</td>\n",
              "      <td>13.16</td>\n",
              "      <td>2.36</td>\n",
              "      <td>2.67</td>\n",
              "      <td>18.6</td>\n",
              "      <td>101</td>\n",
              "      <td>2.80</td>\n",
              "      <td>3.24</td>\n",
              "      <td>0.30</td>\n",
              "      <td>2.81</td>\n",
              "      <td>5.68</td>\n",
              "      <td>1.03</td>\n",
              "      <td>3.17</td>\n",
              "      <td>1185</td>\n",
              "    </tr>\n",
              "    <tr>\n",
              "      <th>3</th>\n",
              "      <td>1</td>\n",
              "      <td>14.37</td>\n",
              "      <td>1.95</td>\n",
              "      <td>2.50</td>\n",
              "      <td>16.8</td>\n",
              "      <td>113</td>\n",
              "      <td>3.85</td>\n",
              "      <td>3.49</td>\n",
              "      <td>0.24</td>\n",
              "      <td>2.18</td>\n",
              "      <td>7.80</td>\n",
              "      <td>0.86</td>\n",
              "      <td>3.45</td>\n",
              "      <td>1480</td>\n",
              "    </tr>\n",
              "    <tr>\n",
              "      <th>4</th>\n",
              "      <td>1</td>\n",
              "      <td>13.24</td>\n",
              "      <td>2.59</td>\n",
              "      <td>2.87</td>\n",
              "      <td>21.0</td>\n",
              "      <td>118</td>\n",
              "      <td>2.80</td>\n",
              "      <td>2.69</td>\n",
              "      <td>0.39</td>\n",
              "      <td>1.82</td>\n",
              "      <td>4.32</td>\n",
              "      <td>1.04</td>\n",
              "      <td>2.93</td>\n",
              "      <td>735</td>\n",
              "    </tr>\n",
              "  </tbody>\n",
              "</table>\n",
              "</div>\n",
              "    <div class=\"colab-df-buttons\">\n",
              "\n",
              "  <div class=\"colab-df-container\">\n",
              "    <button class=\"colab-df-convert\" onclick=\"convertToInteractive('df-90485091-e9c4-43f4-b659-cae65958335c')\"\n",
              "            title=\"Convert this dataframe to an interactive table.\"\n",
              "            style=\"display:none;\">\n",
              "\n",
              "  <svg xmlns=\"http://www.w3.org/2000/svg\" height=\"24px\" viewBox=\"0 -960 960 960\">\n",
              "    <path d=\"M120-120v-720h720v720H120Zm60-500h600v-160H180v160Zm220 220h160v-160H400v160Zm0 220h160v-160H400v160ZM180-400h160v-160H180v160Zm440 0h160v-160H620v160ZM180-180h160v-160H180v160Zm440 0h160v-160H620v160Z\"/>\n",
              "  </svg>\n",
              "    </button>\n",
              "\n",
              "  <style>\n",
              "    .colab-df-container {\n",
              "      display:flex;\n",
              "      gap: 12px;\n",
              "    }\n",
              "\n",
              "    .colab-df-convert {\n",
              "      background-color: #E8F0FE;\n",
              "      border: none;\n",
              "      border-radius: 50%;\n",
              "      cursor: pointer;\n",
              "      display: none;\n",
              "      fill: #1967D2;\n",
              "      height: 32px;\n",
              "      padding: 0 0 0 0;\n",
              "      width: 32px;\n",
              "    }\n",
              "\n",
              "    .colab-df-convert:hover {\n",
              "      background-color: #E2EBFA;\n",
              "      box-shadow: 0px 1px 2px rgba(60, 64, 67, 0.3), 0px 1px 3px 1px rgba(60, 64, 67, 0.15);\n",
              "      fill: #174EA6;\n",
              "    }\n",
              "\n",
              "    .colab-df-buttons div {\n",
              "      margin-bottom: 4px;\n",
              "    }\n",
              "\n",
              "    [theme=dark] .colab-df-convert {\n",
              "      background-color: #3B4455;\n",
              "      fill: #D2E3FC;\n",
              "    }\n",
              "\n",
              "    [theme=dark] .colab-df-convert:hover {\n",
              "      background-color: #434B5C;\n",
              "      box-shadow: 0px 1px 3px 1px rgba(0, 0, 0, 0.15);\n",
              "      filter: drop-shadow(0px 1px 2px rgba(0, 0, 0, 0.3));\n",
              "      fill: #FFFFFF;\n",
              "    }\n",
              "  </style>\n",
              "\n",
              "    <script>\n",
              "      const buttonEl =\n",
              "        document.querySelector('#df-90485091-e9c4-43f4-b659-cae65958335c button.colab-df-convert');\n",
              "      buttonEl.style.display =\n",
              "        google.colab.kernel.accessAllowed ? 'block' : 'none';\n",
              "\n",
              "      async function convertToInteractive(key) {\n",
              "        const element = document.querySelector('#df-90485091-e9c4-43f4-b659-cae65958335c');\n",
              "        const dataTable =\n",
              "          await google.colab.kernel.invokeFunction('convertToInteractive',\n",
              "                                                    [key], {});\n",
              "        if (!dataTable) return;\n",
              "\n",
              "        const docLinkHtml = 'Like what you see? Visit the ' +\n",
              "          '<a target=\"_blank\" href=https://colab.research.google.com/notebooks/data_table.ipynb>data table notebook</a>'\n",
              "          + ' to learn more about interactive tables.';\n",
              "        element.innerHTML = '';\n",
              "        dataTable['output_type'] = 'display_data';\n",
              "        await google.colab.output.renderOutput(dataTable, element);\n",
              "        const docLink = document.createElement('div');\n",
              "        docLink.innerHTML = docLinkHtml;\n",
              "        element.appendChild(docLink);\n",
              "      }\n",
              "    </script>\n",
              "  </div>\n",
              "\n",
              "\n",
              "<div id=\"df-676ceeae-5eef-4d69-987e-12d671190726\">\n",
              "  <button class=\"colab-df-quickchart\" onclick=\"quickchart('df-676ceeae-5eef-4d69-987e-12d671190726')\"\n",
              "            title=\"Suggest charts\"\n",
              "            style=\"display:none;\">\n",
              "\n",
              "<svg xmlns=\"http://www.w3.org/2000/svg\" height=\"24px\"viewBox=\"0 0 24 24\"\n",
              "     width=\"24px\">\n",
              "    <g>\n",
              "        <path d=\"M19 3H5c-1.1 0-2 .9-2 2v14c0 1.1.9 2 2 2h14c1.1 0 2-.9 2-2V5c0-1.1-.9-2-2-2zM9 17H7v-7h2v7zm4 0h-2V7h2v10zm4 0h-2v-4h2v4z\"/>\n",
              "    </g>\n",
              "</svg>\n",
              "  </button>\n",
              "\n",
              "<style>\n",
              "  .colab-df-quickchart {\n",
              "      --bg-color: #E8F0FE;\n",
              "      --fill-color: #1967D2;\n",
              "      --hover-bg-color: #E2EBFA;\n",
              "      --hover-fill-color: #174EA6;\n",
              "      --disabled-fill-color: #AAA;\n",
              "      --disabled-bg-color: #DDD;\n",
              "  }\n",
              "\n",
              "  [theme=dark] .colab-df-quickchart {\n",
              "      --bg-color: #3B4455;\n",
              "      --fill-color: #D2E3FC;\n",
              "      --hover-bg-color: #434B5C;\n",
              "      --hover-fill-color: #FFFFFF;\n",
              "      --disabled-bg-color: #3B4455;\n",
              "      --disabled-fill-color: #666;\n",
              "  }\n",
              "\n",
              "  .colab-df-quickchart {\n",
              "    background-color: var(--bg-color);\n",
              "    border: none;\n",
              "    border-radius: 50%;\n",
              "    cursor: pointer;\n",
              "    display: none;\n",
              "    fill: var(--fill-color);\n",
              "    height: 32px;\n",
              "    padding: 0;\n",
              "    width: 32px;\n",
              "  }\n",
              "\n",
              "  .colab-df-quickchart:hover {\n",
              "    background-color: var(--hover-bg-color);\n",
              "    box-shadow: 0 1px 2px rgba(60, 64, 67, 0.3), 0 1px 3px 1px rgba(60, 64, 67, 0.15);\n",
              "    fill: var(--button-hover-fill-color);\n",
              "  }\n",
              "\n",
              "  .colab-df-quickchart-complete:disabled,\n",
              "  .colab-df-quickchart-complete:disabled:hover {\n",
              "    background-color: var(--disabled-bg-color);\n",
              "    fill: var(--disabled-fill-color);\n",
              "    box-shadow: none;\n",
              "  }\n",
              "\n",
              "  .colab-df-spinner {\n",
              "    border: 2px solid var(--fill-color);\n",
              "    border-color: transparent;\n",
              "    border-bottom-color: var(--fill-color);\n",
              "    animation:\n",
              "      spin 1s steps(1) infinite;\n",
              "  }\n",
              "\n",
              "  @keyframes spin {\n",
              "    0% {\n",
              "      border-color: transparent;\n",
              "      border-bottom-color: var(--fill-color);\n",
              "      border-left-color: var(--fill-color);\n",
              "    }\n",
              "    20% {\n",
              "      border-color: transparent;\n",
              "      border-left-color: var(--fill-color);\n",
              "      border-top-color: var(--fill-color);\n",
              "    }\n",
              "    30% {\n",
              "      border-color: transparent;\n",
              "      border-left-color: var(--fill-color);\n",
              "      border-top-color: var(--fill-color);\n",
              "      border-right-color: var(--fill-color);\n",
              "    }\n",
              "    40% {\n",
              "      border-color: transparent;\n",
              "      border-right-color: var(--fill-color);\n",
              "      border-top-color: var(--fill-color);\n",
              "    }\n",
              "    60% {\n",
              "      border-color: transparent;\n",
              "      border-right-color: var(--fill-color);\n",
              "    }\n",
              "    80% {\n",
              "      border-color: transparent;\n",
              "      border-right-color: var(--fill-color);\n",
              "      border-bottom-color: var(--fill-color);\n",
              "    }\n",
              "    90% {\n",
              "      border-color: transparent;\n",
              "      border-bottom-color: var(--fill-color);\n",
              "    }\n",
              "  }\n",
              "</style>\n",
              "\n",
              "  <script>\n",
              "    async function quickchart(key) {\n",
              "      const quickchartButtonEl =\n",
              "        document.querySelector('#' + key + ' button');\n",
              "      quickchartButtonEl.disabled = true;  // To prevent multiple clicks.\n",
              "      quickchartButtonEl.classList.add('colab-df-spinner');\n",
              "      try {\n",
              "        const charts = await google.colab.kernel.invokeFunction(\n",
              "            'suggestCharts', [key], {});\n",
              "      } catch (error) {\n",
              "        console.error('Error during call to suggestCharts:', error);\n",
              "      }\n",
              "      quickchartButtonEl.classList.remove('colab-df-spinner');\n",
              "      quickchartButtonEl.classList.add('colab-df-quickchart-complete');\n",
              "    }\n",
              "    (() => {\n",
              "      let quickchartButtonEl =\n",
              "        document.querySelector('#df-676ceeae-5eef-4d69-987e-12d671190726 button');\n",
              "      quickchartButtonEl.style.display =\n",
              "        google.colab.kernel.accessAllowed ? 'block' : 'none';\n",
              "    })();\n",
              "  </script>\n",
              "</div>\n",
              "    </div>\n",
              "  </div>\n"
            ]
          },
          "metadata": {},
          "execution_count": 6
        }
      ]
    },
    {
      "cell_type": "markdown",
      "source": [
        "#### Normalisasi Data dgn Min-Max"
      ],
      "metadata": {
        "id": "fD4Cj-KtWxqX"
      }
    },
    {
      "cell_type": "code",
      "source": [
        "#MinMaxScaler\n",
        "scaler = MinMaxScaler()"
      ],
      "metadata": {
        "id": "QXEvhzXd9A9o"
      },
      "execution_count": null,
      "outputs": []
    },
    {
      "cell_type": "markdown",
      "source": [
        "# Analisis Korelasi"
      ],
      "metadata": {
        "id": "ouLRVUxDYtkE"
      }
    },
    {
      "cell_type": "code",
      "source": [
        "corr = dataset.corr()\n",
        "fig, ax = plt.subplots(figsize=(10, 8))\n",
        "# Generate Heatmap\n",
        "sns.heatmap(corr, cmap='coolwarm', annot=True, fmt=\".2f\")\n",
        "plt.xticks(range(len(corr.columns)), corr.columns);\n",
        "plt.yticks(range(len(corr.columns)), corr.columns)\n",
        "\n",
        "plt.show()"
      ],
      "metadata": {
        "colab": {
          "base_uri": "https://localhost:8080/",
          "height": 821
        },
        "id": "wwZb51EaaMvT",
        "outputId": "6eb89f44-055b-4f28-83d5-bfa483c2292f"
      },
      "execution_count": null,
      "outputs": [
        {
          "output_type": "display_data",
          "data": {
            "text/plain": [
              "<Figure size 1000x800 with 2 Axes>"
            ],
            "image/png": "[encoded data removed]"
          },
          "metadata": {}
        }
      ]
    },
    {
      "cell_type": "markdown",
      "source": [
        "# **OD280_or_OD315 dan flavanoids**"
      ],
      "metadata": {
        "id": "l9zo6tYLccrg"
      }
    },
    {
      "cell_type": "code",
      "source": [
        "#Selected Features\n",
        "selected_atr = ['OD280_or_OD315', 'flavanoids']\n",
        "X = dataset[selected_atr]\n",
        "y = dataset['wine_class']"
      ],
      "metadata": {
        "id": "ZrKeeu8MboCZ"
      },
      "execution_count": null,
      "outputs": []
    },
    {
      "cell_type": "code",
      "source": [
        "X_normalized = scaler.fit_transform(X)"
      ],
      "metadata": {
        "id": "I1b36pIz9XKP"
      },
      "execution_count": null,
      "outputs": []
    },
    {
      "cell_type": "code",
      "source": [
        "from sklearn.naive_bayes import GaussianNB\n",
        "\n",
        "model = GaussianNB()"
      ],
      "metadata": {
        "id": "6Y2aDEoqgZnm"
      },
      "execution_count": null,
      "outputs": []
    },
    {
      "cell_type": "code",
      "source": [
        "k_fold = 5\n",
        "cv = StratifiedKFold(n_splits=k_fold, shuffle=True, random_state=42)\n",
        "scores = cross_val_score(model, X, y, cv=k_fold, scoring='accuracy')\n",
        "\n",
        "# Tampilkan hasil akurasi dari setiap fold\n",
        "for i, score in enumerate(scores):\n",
        "    print(f'Fold {i+1}: {score}')"
      ],
      "metadata": {
        "colab": {
          "base_uri": "https://localhost:8080/"
        },
        "id": "VgqcmpoiG5io",
        "outputId": "b1f7df3b-9d38-4c4e-ea9b-3d01e11cac1c"
      },
      "execution_count": null,
      "outputs": [
        {
          "output_type": "stream",
          "name": "stdout",
          "text": [
            "Fold 1: 1.0\n",
            "Fold 2: 0.9444444444444444\n",
            "Fold 3: 0.8611111111111112\n",
            "Fold 4: 0.9428571428571428\n",
            "Fold 5: 0.9714285714285714\n"
          ]
        }
      ]
    },
    {
      "cell_type": "code",
      "source": [
        "#Menampilkan rata-rata akurasi dari semua fold\n",
        "print(f'Rata-rata Akurasi: {scores.mean()}')"
      ],
      "metadata": {
        "colab": {
          "base_uri": "https://localhost:8080/"
        },
        "id": "ZADxJXyMcYxq",
        "outputId": "472a8b9d-e975-447d-bcdf-0efd64dfbe0e"
      },
      "execution_count": null,
      "outputs": [
        {
          "output_type": "stream",
          "name": "stdout",
          "text": [
            "Rata-rata Akurasi: 0.943968253968254\n"
          ]
        }
      ]
    },
    {
      "cell_type": "code",
      "source": [
        "all_conf_matrices = []\n",
        "\n",
        "# Loop melalui setiap fold\n",
        "for train_index, test_index in cv.split(X, y):\n",
        "    X_train, X_test = X.iloc[train_index], X.iloc[test_index]\n",
        "    y_train, y_test = y.iloc[train_index], y.iloc[test_index]\n",
        "\n",
        "    # Latih model pada data latih\n",
        "    model.fit(X_train, y_train)\n",
        "\n",
        "    # Prediksi menggunakan data uji\n",
        "    y_pred = model.predict(X_test)\n",
        "\n",
        "    # Hitung confusion matrix untuk fold ini\n",
        "    conf_matrix = confusion_matrix(y_test, y_pred)\n",
        "\n",
        "    # Simpan confusion matrix ke dalam array\n",
        "    all_conf_matrices.append(conf_matrix)\n",
        "\n",
        "# Tampilkan confusion matrix untuk setiap fold\n",
        "for i, conf_matrix in enumerate(all_conf_matrices):\n",
        "    print(f\"Confusion Matrix - Fold {i+1}:\")\n",
        "    print(conf_matrix)"
      ],
      "metadata": {
        "colab": {
          "base_uri": "https://localhost:8080/"
        },
        "id": "bG1akeQ6LXSO",
        "outputId": "de8d8a1e-e9df-4ed6-88a5-48fa8f677f69"
      },
      "execution_count": null,
      "outputs": [
        {
          "output_type": "stream",
          "name": "stdout",
          "text": [
            "Confusion Matrix - Fold 1:\n",
            "[[10  0]\n",
            " [ 2 24]]\n",
            "Confusion Matrix - Fold 2:\n",
            "[[10  0]\n",
            " [ 2 24]]\n",
            "Confusion Matrix - Fold 3:\n",
            "[[10  0]\n",
            " [ 1 25]]\n",
            "Confusion Matrix - Fold 4:\n",
            "[[ 9  0]\n",
            " [ 1 25]]\n",
            "Confusion Matrix - Fold 5:\n",
            "[[ 8  1]\n",
            " [ 1 25]]\n"
          ]
        }
      ]
    },
    {
      "cell_type": "code",
      "source": [
        "train_times = []\n",
        "for train_index, _ in cv.split(X, y):\n",
        "    X_train, y_train = X.iloc[train_index], y.iloc[train_index]\n",
        "\n",
        "    # Mengukur waktu train untuk setiap fold\n",
        "    train_time = timeit.timeit(lambda: model.fit(X_train, y_train), number=1)\n",
        "    train_times.append(train_time)\n",
        "\n",
        "# Cetak durasi train untuk setiap fold\n",
        "for i, time in enumerate(train_times):\n",
        "    print(f'Durasi train untuk fold {i+1}: {time} detik')\n",
        "\n",
        "#Menampilkan rata-rata durasi dari semua fold\n",
        "avg_train_tm = mean(train_times)\n",
        "print(f'Rata-rata durasi: {avg_train_tm} detik')"
      ],
      "metadata": {
        "colab": {
          "base_uri": "https://localhost:8080/"
        },
        "id": "ld0LCpgS3ziO",
        "outputId": "6d063076-d33c-4a89-8e7e-f643dc3da98c"
      },
      "execution_count": null,
      "outputs": [
        {
          "output_type": "stream",
          "name": "stdout",
          "text": [
            "Durasi train untuk fold 1: 0.003959299999905852 detik\n",
            "Durasi train untuk fold 2: 0.004413957999986451 detik\n",
            "Durasi train untuk fold 3: 0.0025509520000923658 detik\n",
            "Durasi train untuk fold 4: 0.0018884219998653862 detik\n",
            "Durasi train untuk fold 5: 0.0018090920000304322 detik\n",
            "Rata-rata durasi: 0.0029243447999760972 detik\n"
          ]
        }
      ]
    },
    {
      "cell_type": "markdown",
      "source": [
        "# **Flavanoid dan total phenols**"
      ],
      "metadata": {
        "id": "9TngB59-dDZe"
      }
    },
    {
      "cell_type": "code",
      "source": [
        "#Selected Features\n",
        "selected_atr = ['total_phenols', 'flavanoids']\n",
        "X = dataset[selected_atr]\n",
        "y = dataset['wine_class']"
      ],
      "metadata": {
        "id": "XJSt7EijdQU0"
      },
      "execution_count": null,
      "outputs": []
    },
    {
      "cell_type": "code",
      "source": [
        "X_normalized = scaler.fit_transform(X)"
      ],
      "metadata": {
        "id": "GAoxLH3595ka"
      },
      "execution_count": null,
      "outputs": []
    },
    {
      "cell_type": "code",
      "source": [
        "from sklearn.naive_bayes import GaussianNB\n",
        "\n",
        "model2 = GaussianNB()"
      ],
      "metadata": {
        "id": "oE65XHzgdXss"
      },
      "execution_count": null,
      "outputs": []
    },
    {
      "cell_type": "code",
      "source": [
        "k_fold = 5\n",
        "scores = cross_val_score(model2, X, y, cv=k_fold, scoring='accuracy')\n",
        "\n",
        "# Tampilkan hasil akurasi dari setiap fold\n",
        "for i, score in enumerate(scores):\n",
        "    print(f'Fold {i+1}: {score}')"
      ],
      "metadata": {
        "colab": {
          "base_uri": "https://localhost:8080/"
        },
        "id": "M4sdt3ypiet3",
        "outputId": "cb283024-4471-49f5-ec2e-184853ef285a"
      },
      "execution_count": null,
      "outputs": [
        {
          "output_type": "stream",
          "name": "stdout",
          "text": [
            "Fold 1: 1.0\n",
            "Fold 2: 1.0\n",
            "Fold 3: 0.75\n",
            "Fold 4: 0.8571428571428571\n",
            "Fold 5: 0.9714285714285714\n"
          ]
        }
      ]
    },
    {
      "cell_type": "code",
      "source": [
        "# Tampilkan rata-rata akurasi dari semua fold\n",
        "print(f'Rata-rata Akurasi: {scores.mean()}')"
      ],
      "metadata": {
        "colab": {
          "base_uri": "https://localhost:8080/"
        },
        "id": "oDRzQywpii13",
        "outputId": "9a847128-8b59-4a92-bc40-36bc092c4cb1"
      },
      "execution_count": null,
      "outputs": [
        {
          "output_type": "stream",
          "name": "stdout",
          "text": [
            "Rata-rata Akurasi: 0.9157142857142857\n"
          ]
        }
      ]
    },
    {
      "cell_type": "code",
      "source": [
        "all_conf_matrices = []\n",
        "\n",
        "# Loop melalui setiap fold\n",
        "for train_index, test_index in cv.split(X, y):\n",
        "    X_train, X_test = X.iloc[train_index], X.iloc[test_index]\n",
        "    y_train, y_test = y.iloc[train_index], y.iloc[test_index]\n",
        "\n",
        "    # Latih model pada data latih\n",
        "    model.fit(X_train, y_train)\n",
        "\n",
        "    # Prediksi menggunakan data uji\n",
        "    y_pred = model.predict(X_test)\n",
        "\n",
        "    # Hitung confusion matrix untuk fold ini\n",
        "    conf_matrix = confusion_matrix(y_test, y_pred)\n",
        "\n",
        "    # Simpan confusion matrix ke dalam array\n",
        "    all_conf_matrices.append(conf_matrix)\n",
        "\n",
        "# Tampilkan confusion matrix untuk setiap fold\n",
        "for i, conf_matrix in enumerate(all_conf_matrices):\n",
        "    print(f\"Confusion Matrix - Fold {i+1}:\")\n",
        "    print(conf_matrix)"
      ],
      "metadata": {
        "id": "l_mLU0qKNXmo",
        "colab": {
          "base_uri": "https://localhost:8080/"
        },
        "outputId": "f2ef724e-768f-4a80-c3cf-2a465b9c27fe"
      },
      "execution_count": null,
      "outputs": [
        {
          "output_type": "stream",
          "name": "stdout",
          "text": [
            "Confusion Matrix - Fold 1:\n",
            "[[ 9  1]\n",
            " [ 1 25]]\n",
            "Confusion Matrix - Fold 2:\n",
            "[[ 9  1]\n",
            " [ 3 23]]\n",
            "Confusion Matrix - Fold 3:\n",
            "[[ 9  1]\n",
            " [ 1 25]]\n",
            "Confusion Matrix - Fold 4:\n",
            "[[ 8  1]\n",
            " [ 3 23]]\n",
            "Confusion Matrix - Fold 5:\n",
            "[[ 9  0]\n",
            " [ 3 23]]\n"
          ]
        }
      ]
    },
    {
      "cell_type": "code",
      "source": [
        "train_times = []\n",
        "for train_index, _ in cv.split(X, y):\n",
        "    X_train, y_train = X.iloc[train_index], y.iloc[train_index]\n",
        "\n",
        "    # Mengukur waktu train untuk setiap fold\n",
        "    train_time = timeit.timeit(lambda: model.fit(X_train, y_train), number=1)\n",
        "    train_times.append(train_time)\n",
        "\n",
        "# Cetak durasi train untuk setiap fold\n",
        "for i, time in enumerate(train_times):\n",
        "    print(f'Durasi train untuk fold {i+1}: {time} detik')\n",
        "\n",
        "#Menampilkan rata-rata durasi dari semua fold\n",
        "avg_train_tm = mean(train_times)\n",
        "print(f'Rata-rata durasi: {avg_train_tm} detik')"
      ],
      "metadata": {
        "colab": {
          "base_uri": "https://localhost:8080/"
        },
        "id": "TwnIFeNC55dH",
        "outputId": "14bbfc5b-2b39-4e52-8c97-b05bfa691cb7"
      },
      "execution_count": null,
      "outputs": [
        {
          "output_type": "stream",
          "name": "stdout",
          "text": [
            "Durasi train untuk fold 1: 0.002915692999977182 detik\n",
            "Durasi train untuk fold 2: 0.0051690200000393816 detik\n",
            "Durasi train untuk fold 3: 0.0029081679999762855 detik\n",
            "Durasi train untuk fold 4: 0.002592601000060313 detik\n",
            "Durasi train untuk fold 5: 0.009526821999997992 detik\n",
            "Rata-rata durasi: 0.004622460800010231 detik\n"
          ]
        }
      ]
    },
    {
      "cell_type": "markdown",
      "source": [
        "# **OD280_or_OD315 dan total phenols**"
      ],
      "metadata": {
        "id": "0I7HhXKtj9Ew"
      }
    },
    {
      "cell_type": "code",
      "source": [
        "selected_atr = ['total_phenols', 'OD280_or_OD315']\n",
        "X = dataset[selected_atr]\n",
        "y = dataset['wine_class']"
      ],
      "metadata": {
        "id": "_dNQwb9jkC-a"
      },
      "execution_count": null,
      "outputs": []
    },
    {
      "cell_type": "code",
      "source": [
        "X_normalized = scaler.fit_transform(X)"
      ],
      "metadata": {
        "id": "93PH8Qzq-LY4"
      },
      "execution_count": null,
      "outputs": []
    },
    {
      "cell_type": "code",
      "source": [
        "from sklearn.naive_bayes import GaussianNB\n",
        "\n",
        "model3 = GaussianNB()"
      ],
      "metadata": {
        "id": "YZzipMLQkIvh"
      },
      "execution_count": null,
      "outputs": []
    },
    {
      "cell_type": "code",
      "source": [
        "k_fold = 5\n",
        "scores = cross_val_score(model3, X, y, cv=k_fold, scoring='accuracy')\n",
        "\n",
        "# Tampilkan hasil akurasi dari setiap fold\n",
        "for i, score in enumerate(scores):\n",
        "    print(f'Fold {i+1}: {score}')"
      ],
      "metadata": {
        "colab": {
          "base_uri": "https://localhost:8080/"
        },
        "id": "r6cwAWh7kNph",
        "outputId": "607b2c12-926c-46fe-ff3c-7d1750af71df"
      },
      "execution_count": null,
      "outputs": [
        {
          "output_type": "stream",
          "name": "stdout",
          "text": [
            "Fold 1: 0.9722222222222222\n",
            "Fold 2: 0.9166666666666666\n",
            "Fold 3: 0.7777777777777778\n",
            "Fold 4: 0.8571428571428571\n",
            "Fold 5: 0.9714285714285714\n"
          ]
        }
      ]
    },
    {
      "cell_type": "code",
      "source": [
        "# Tampilkan rata-rata akurasi dari semua fold\n",
        "print(f'Rata-rata Akurasi: {scores.mean()}')"
      ],
      "metadata": {
        "colab": {
          "base_uri": "https://localhost:8080/"
        },
        "id": "fC_7Wi35kSGV",
        "outputId": "68912520-7dfe-48cd-e93f-df8429072e2c"
      },
      "execution_count": null,
      "outputs": [
        {
          "output_type": "stream",
          "name": "stdout",
          "text": [
            "Rata-rata Akurasi: 0.8990476190476191\n"
          ]
        }
      ]
    },
    {
      "cell_type": "code",
      "source": [
        "all_conf_matrices = []\n",
        "\n",
        "# Loop melalui setiap fold\n",
        "for train_index, test_index in cv.split(X, y):\n",
        "    X_train, X_test = X.iloc[train_index], X.iloc[test_index]\n",
        "    y_train, y_test = y.iloc[train_index], y.iloc[test_index]\n",
        "\n",
        "    # Latih model pada data latih\n",
        "    model.fit(X_train, y_train)\n",
        "\n",
        "    # Prediksi menggunakan data uji\n",
        "    y_pred = model.predict(X_test)\n",
        "\n",
        "    # Hitung confusion matrix untuk fold ini\n",
        "    conf_matrix = confusion_matrix(y_test, y_pred)\n",
        "\n",
        "    # Simpan confusion matrix ke dalam array\n",
        "    all_conf_matrices.append(conf_matrix)\n",
        "\n",
        "# Tampilkan confusion matrix untuk setiap fold\n",
        "for i, conf_matrix in enumerate(all_conf_matrices):\n",
        "    print(f\"Confusion Matrix - Fold {i+1}:\")\n",
        "    print(conf_matrix)"
      ],
      "metadata": {
        "id": "d05xpvIRNgrw",
        "colab": {
          "base_uri": "https://localhost:8080/"
        },
        "outputId": "38ec885a-da37-47f9-cff2-3d1e9dbb0136"
      },
      "execution_count": null,
      "outputs": [
        {
          "output_type": "stream",
          "name": "stdout",
          "text": [
            "Confusion Matrix - Fold 1:\n",
            "[[ 9  1]\n",
            " [ 2 24]]\n",
            "Confusion Matrix - Fold 2:\n",
            "[[ 9  1]\n",
            " [ 5 21]]\n",
            "Confusion Matrix - Fold 3:\n",
            "[[10  0]\n",
            " [ 1 25]]\n",
            "Confusion Matrix - Fold 4:\n",
            "[[ 7  2]\n",
            " [ 1 25]]\n",
            "Confusion Matrix - Fold 5:\n",
            "[[ 8  1]\n",
            " [ 0 26]]\n"
          ]
        }
      ]
    },
    {
      "cell_type": "code",
      "source": [
        "train_times = []\n",
        "for train_index, _ in cv.split(X, y):\n",
        "    X_train, y_train = X.iloc[train_index], y.iloc[train_index]\n",
        "\n",
        "    # Mengukur waktu train untuk setiap fold\n",
        "    train_time = timeit.timeit(lambda: model.fit(X_train, y_train), number=1)\n",
        "    train_times.append(train_time)\n",
        "\n",
        "# Cetak durasi train untuk setiap fold\n",
        "for i, time in enumerate(train_times):\n",
        "    print(f'Durasi train untuk fold {i+1}: {time} detik')\n",
        "\n",
        "#Menampilkan rata-rata durasi dari semua fold\n",
        "avg_train_tm = mean(train_times)\n",
        "print(f'Rata-rata durasi: {avg_train_tm} detik')"
      ],
      "metadata": {
        "colab": {
          "base_uri": "https://localhost:8080/"
        },
        "id": "R4gN9ZHd57EM",
        "outputId": "9510f10c-4e6d-4721-b7ed-bca3fef59ec1"
      },
      "execution_count": null,
      "outputs": [
        {
          "output_type": "stream",
          "name": "stdout",
          "text": [
            "Durasi train untuk fold 1: 0.002839786000095046 detik\n",
            "Durasi train untuk fold 2: 0.007204196999964552 detik\n",
            "Durasi train untuk fold 3: 0.003575408999950014 detik\n",
            "Durasi train untuk fold 4: 0.004763259999890579 detik\n",
            "Durasi train untuk fold 5: 0.0026707960000749154 detik\n",
            "Rata-rata durasi: 0.004210689599995021 detik\n"
          ]
        }
      ]
    },
    {
      "cell_type": "markdown",
      "source": [
        "# **OD280_or_0D315, total phenols, flavanoids**\n",
        "\n"
      ],
      "metadata": {
        "id": "nD6WjT8BkxAF"
      }
    },
    {
      "cell_type": "code",
      "source": [
        "selected_atr = ['OD280_or_OD315', 'total_phenols', 'flavanoids']\n",
        "X = dataset[selected_atr]\n",
        "y = dataset['wine_class']"
      ],
      "metadata": {
        "id": "uyX8niVnk5HC"
      },
      "execution_count": null,
      "outputs": []
    },
    {
      "cell_type": "code",
      "source": [
        "X_normalized = scaler.fit_transform(X)"
      ],
      "metadata": {
        "id": "43eGFZtQ-aXU"
      },
      "execution_count": null,
      "outputs": []
    },
    {
      "cell_type": "code",
      "source": [
        "from sklearn.naive_bayes import GaussianNB\n",
        "\n",
        "model4 = GaussianNB()"
      ],
      "metadata": {
        "id": "5oKTfb4rk-Kd"
      },
      "execution_count": null,
      "outputs": []
    },
    {
      "cell_type": "code",
      "source": [
        "k_fold = 5\n",
        "scores = cross_val_score(model4, X, y, cv=k_fold, scoring='accuracy')\n",
        "\n",
        "# Tampilkan hasil akurasi dari seti ap fold\n",
        "for i, score in enumerate(scores):\n",
        "    print(f'Fold {i+1}: {score}')"
      ],
      "metadata": {
        "colab": {
          "base_uri": "https://localhost:8080/"
        },
        "id": "0vX1aSAflCWZ",
        "outputId": "70dbf192-5204-408c-a76b-bd5e422fa2e2"
      },
      "execution_count": null,
      "outputs": [
        {
          "output_type": "stream",
          "name": "stdout",
          "text": [
            "Fold 1: 1.0\n",
            "Fold 2: 0.9722222222222222\n",
            "Fold 3: 0.8611111111111112\n",
            "Fold 4: 0.8857142857142857\n",
            "Fold 5: 0.9714285714285714\n"
          ]
        }
      ]
    },
    {
      "cell_type": "code",
      "source": [
        "# Tampilkan rata-rata akurasi dari semua fold\n",
        "print(f'Rata-rata Akurasi: {scores.mean()}')"
      ],
      "metadata": {
        "colab": {
          "base_uri": "https://localhost:8080/"
        },
        "id": "rvFXbkYNlHst",
        "outputId": "2a20c047-6994-4f02-8852-3282b9766e6e"
      },
      "execution_count": null,
      "outputs": [
        {
          "output_type": "stream",
          "name": "stdout",
          "text": [
            "Rata-rata Akurasi: 0.9380952380952381\n"
          ]
        }
      ]
    },
    {
      "cell_type": "code",
      "source": [
        "all_conf_matrices = []\n",
        "\n",
        "# Loop melalui setiap fold\n",
        "for train_index, test_index in cv.split(X, y):\n",
        "    X_train, X_test = X.iloc[train_index], X.iloc[test_index]\n",
        "    y_train, y_test = y.iloc[train_index], y.iloc[test_index]\n",
        "\n",
        "    # Latih model pada data latih\n",
        "    model.fit(X_train, y_train)\n",
        "\n",
        "    # Prediksi menggunakan data uji\n",
        "    y_pred = model.predict(X_test)\n",
        "\n",
        "    # Hitung confusion matrix untuk fold ini\n",
        "    conf_matrix = confusion_matrix(y_test, y_pred)\n",
        "\n",
        "    # Simpan confusion matrix ke dalam array\n",
        "    all_conf_matrices.append(conf_matrix)\n",
        "\n",
        "# Tampilkan confusion matrix untuk setiap fold\n",
        "for i, conf_matrix in enumerate(all_conf_matrices):\n",
        "    print(f\"Confusion Matrix - Fold {i+1}:\")\n",
        "    print(conf_matrix)"
      ],
      "metadata": {
        "colab": {
          "base_uri": "https://localhost:8080/"
        },
        "id": "ArM8E7mENiXG",
        "outputId": "1b16aee3-9fd3-4919-cb00-ce19b42653f5"
      },
      "execution_count": null,
      "outputs": [
        {
          "output_type": "stream",
          "name": "stdout",
          "text": [
            "Confusion Matrix - Fold 1:\n",
            "[[ 9  1]\n",
            " [ 2 24]]\n",
            "Confusion Matrix - Fold 2:\n",
            "[[10  0]\n",
            " [ 3 23]]\n",
            "Confusion Matrix - Fold 3:\n",
            "[[10  0]\n",
            " [ 1 25]]\n",
            "Confusion Matrix - Fold 4:\n",
            "[[ 9  0]\n",
            " [ 1 25]]\n",
            "Confusion Matrix - Fold 5:\n",
            "[[ 9  0]\n",
            " [ 1 25]]\n"
          ]
        }
      ]
    },
    {
      "cell_type": "code",
      "source": [
        "train_times = []\n",
        "for train_index, _ in cv.split(X, y):\n",
        "    X_train, y_train = X.iloc[train_index], y.iloc[train_index]\n",
        "\n",
        "    # Mengukur waktu train untuk setiap fold\n",
        "    train_time = timeit.timeit(lambda: model.fit(X_train, y_train), number=1)\n",
        "    train_times.append(train_time)\n",
        "\n",
        "# Cetak durasi train untuk setiap fold\n",
        "for i, time in enumerate(train_times):\n",
        "    print(f'Durasi train untuk fold {i+1}: {time} detik')\n",
        "\n",
        "#Menampilkan rata-rata durasi dari semua fold\n",
        "avg_train_tm = mean(train_times)\n",
        "print(f'Rata-rata durasi: {avg_train_tm} detik')"
      ],
      "metadata": {
        "colab": {
          "base_uri": "https://localhost:8080/"
        },
        "id": "T5QBNEcV5-jh",
        "outputId": "c5327a7f-212d-4122-c9da-bcaf98805421"
      },
      "execution_count": null,
      "outputs": [
        {
          "output_type": "stream",
          "name": "stdout",
          "text": [
            "Durasi train untuk fold 1: 0.0035974059999261954 detik\n",
            "Durasi train untuk fold 2: 0.0031054539999786357 detik\n",
            "Durasi train untuk fold 3: 0.0032967089998692245 detik\n",
            "Durasi train untuk fold 4: 0.002184768000006443 detik\n",
            "Durasi train untuk fold 5: 0.001807303000077809 detik\n",
            "Rata-rata durasi: 0.0027983279999716617 detik\n"
          ]
        }
      ]
    },
    {
      "cell_type": "markdown",
      "source": [
        "# **Test pake data baru**"
      ],
      "metadata": {
        "id": "aR7_-iK9oBvr"
      }
    },
    {
      "cell_type": "code",
      "source": [
        "import pickle"
      ],
      "metadata": {
        "id": "TdPuzrw3Nrt5"
      },
      "execution_count": null,
      "outputs": []
    },
    {
      "cell_type": "code",
      "source": [
        "pkl_filename = \"/content/drive/MyDrive/Semester 5/Machine Learning/UTS/model_final.pkl\"\n",
        "with open(pkl_filename, 'wb') as file:\n",
        "    pickle.dump(model4, file)"
      ],
      "metadata": {
        "id": "1H1MmDYkNuUL"
      },
      "execution_count": null,
      "outputs": []
    },
    {
      "cell_type": "code",
      "source": [
        "pkl_filename = \"/content/drive/MyDrive/Semester 5/Machine Learning/UTS/model_final.pkl\"\n",
        "with open(pkl_filename, 'rb') as file:\n",
        "    loaded_model = pickle.load(file)"
      ],
      "metadata": {
        "id": "SC73H2x3N0Vx"
      },
      "execution_count": null,
      "outputs": []
    },
    {
      "cell_type": "code",
      "source": [
        "dt_new = pd.read_csv('/content/drive/MyDrive/Semester 5/Machine Learning/UTS/wine_neww.csv')"
      ],
      "metadata": {
        "id": "B4qWv5iYoFrH"
      },
      "execution_count": null,
      "outputs": []
    },
    {
      "cell_type": "code",
      "source": [
        "dt_new.head()"
      ],
      "metadata": {
        "colab": {
          "base_uri": "https://localhost:8080/",
          "height": 206
        },
        "id": "Wt35tSDBpuzC",
        "outputId": "b29b51d5-d8e7-4fc4-a967-f6e7115a3a7f"
      },
      "execution_count": null,
      "outputs": [
        {
          "output_type": "execute_result",
          "data": {
            "text/plain": [
              "   OD280_or_OD315  total_phenols  flavanoids\n",
              "0            3.92           2.80        3.29\n",
              "1            1.60           2.60        2.68\n",
              "2            2.70           2.30        3.56\n",
              "3            3.10           1.83        2.63\n",
              "4            1.20           1.65        3.00"
            ],
            "text/html": [
              "\n",
              "  <div id=\"df-fe294336-c80e-4a9a-a0a2-f065ebf0a37f\" class=\"colab-df-container\">\n",
              "    <div>\n",
              "<style scoped>\n",
              "    .dataframe tbody tr th:only-of-type {\n",
              "        vertical-align: middle;\n",
              "    }\n",
              "\n",
              "    .dataframe tbody tr th {\n",
              "        vertical-align: top;\n",
              "    }\n",
              "\n",
              "    .dataframe thead th {\n",
              "        text-align: right;\n",
              "    }\n",
              "</style>\n",
              "<table border=\"1\" class=\"dataframe\">\n",
              "  <thead>\n",
              "    <tr style=\"text-align: right;\">\n",
              "      <th></th>\n",
              "      <th>OD280_or_OD315</th>\n",
              "      <th>total_phenols</th>\n",
              "      <th>flavanoids</th>\n",
              "    </tr>\n",
              "  </thead>\n",
              "  <tbody>\n",
              "    <tr>\n",
              "      <th>0</th>\n",
              "      <td>3.92</td>\n",
              "      <td>2.80</td>\n",
              "      <td>3.29</td>\n",
              "    </tr>\n",
              "    <tr>\n",
              "      <th>1</th>\n",
              "      <td>1.60</td>\n",
              "      <td>2.60</td>\n",
              "      <td>2.68</td>\n",
              "    </tr>\n",
              "    <tr>\n",
              "      <th>2</th>\n",
              "      <td>2.70</td>\n",
              "      <td>2.30</td>\n",
              "      <td>3.56</td>\n",
              "    </tr>\n",
              "    <tr>\n",
              "      <th>3</th>\n",
              "      <td>3.10</td>\n",
              "      <td>1.83</td>\n",
              "      <td>2.63</td>\n",
              "    </tr>\n",
              "    <tr>\n",
              "      <th>4</th>\n",
              "      <td>1.20</td>\n",
              "      <td>1.65</td>\n",
              "      <td>3.00</td>\n",
              "    </tr>\n",
              "  </tbody>\n",
              "</table>\n",
              "</div>\n",
              "    <div class=\"colab-df-buttons\">\n",
              "\n",
              "  <div class=\"colab-df-container\">\n",
              "    <button class=\"colab-df-convert\" onclick=\"convertToInteractive('df-fe294336-c80e-4a9a-a0a2-f065ebf0a37f')\"\n",
              "            title=\"Convert this dataframe to an interactive table.\"\n",
              "            style=\"display:none;\">\n",
              "\n",
              "  <svg xmlns=\"http://www.w3.org/2000/svg\" height=\"24px\" viewBox=\"0 -960 960 960\">\n",
              "    <path d=\"M120-120v-720h720v720H120Zm60-500h600v-160H180v160Zm220 220h160v-160H400v160Zm0 220h160v-160H400v160ZM180-400h160v-160H180v160Zm440 0h160v-160H620v160ZM180-180h160v-160H180v160Zm440 0h160v-160H620v160Z\"/>\n",
              "  </svg>\n",
              "    </button>\n",
              "\n",
              "  <style>\n",
              "    .colab-df-container {\n",
              "      display:flex;\n",
              "      gap: 12px;\n",
              "    }\n",
              "\n",
              "    .colab-df-convert {\n",
              "      background-color: #E8F0FE;\n",
              "      border: none;\n",
              "      border-radius: 50%;\n",
              "      cursor: pointer;\n",
              "      display: none;\n",
              "      fill: #1967D2;\n",
              "      height: 32px;\n",
              "      padding: 0 0 0 0;\n",
              "      width: 32px;\n",
              "    }\n",
              "\n",
              "    .colab-df-convert:hover {\n",
              "      background-color: #E2EBFA;\n",
              "      box-shadow: 0px 1px 2px rgba(60, 64, 67, 0.3), 0px 1px 3px 1px rgba(60, 64, 67, 0.15);\n",
              "      fill: #174EA6;\n",
              "    }\n",
              "\n",
              "    .colab-df-buttons div {\n",
              "      margin-bottom: 4px;\n",
              "    }\n",
              "\n",
              "    [theme=dark] .colab-df-convert {\n",
              "      background-color: #3B4455;\n",
              "      fill: #D2E3FC;\n",
              "    }\n",
              "\n",
              "    [theme=dark] .colab-df-convert:hover {\n",
              "      background-color: #434B5C;\n",
              "      box-shadow: 0px 1px 3px 1px rgba(0, 0, 0, 0.15);\n",
              "      filter: drop-shadow(0px 1px 2px rgba(0, 0, 0, 0.3));\n",
              "      fill: #FFFFFF;\n",
              "    }\n",
              "  </style>\n",
              "\n",
              "    <script>\n",
              "      const buttonEl =\n",
              "        document.querySelector('#df-fe294336-c80e-4a9a-a0a2-f065ebf0a37f button.colab-df-convert');\n",
              "      buttonEl.style.display =\n",
              "        google.colab.kernel.accessAllowed ? 'block' : 'none';\n",
              "\n",
              "      async function convertToInteractive(key) {\n",
              "        const element = document.querySelector('#df-fe294336-c80e-4a9a-a0a2-f065ebf0a37f');\n",
              "        const dataTable =\n",
              "          await google.colab.kernel.invokeFunction('convertToInteractive',\n",
              "                                                    [key], {});\n",
              "        if (!dataTable) return;\n",
              "\n",
              "        const docLinkHtml = 'Like what you see? Visit the ' +\n",
              "          '<a target=\"_blank\" href=https://colab.research.google.com/notebooks/data_table.ipynb>data table notebook</a>'\n",
              "          + ' to learn more about interactive tables.';\n",
              "        element.innerHTML = '';\n",
              "        dataTable['output_type'] = 'display_data';\n",
              "        await google.colab.output.renderOutput(dataTable, element);\n",
              "        const docLink = document.createElement('div');\n",
              "        docLink.innerHTML = docLinkHtml;\n",
              "        element.appendChild(docLink);\n",
              "      }\n",
              "    </script>\n",
              "  </div>\n",
              "\n",
              "\n",
              "<div id=\"df-aed6b8a9-023b-4002-8e6e-2d8af9936ed0\">\n",
              "  <button class=\"colab-df-quickchart\" onclick=\"quickchart('df-aed6b8a9-023b-4002-8e6e-2d8af9936ed0')\"\n",
              "            title=\"Suggest charts\"\n",
              "            style=\"display:none;\">\n",
              "\n",
              "<svg xmlns=\"http://www.w3.org/2000/svg\" height=\"24px\"viewBox=\"0 0 24 24\"\n",
              "     width=\"24px\">\n",
              "    <g>\n",
              "        <path d=\"M19 3H5c-1.1 0-2 .9-2 2v14c0 1.1.9 2 2 2h14c1.1 0 2-.9 2-2V5c0-1.1-.9-2-2-2zM9 17H7v-7h2v7zm4 0h-2V7h2v10zm4 0h-2v-4h2v4z\"/>\n",
              "    </g>\n",
              "</svg>\n",
              "  </button>\n",
              "\n",
              "<style>\n",
              "  .colab-df-quickchart {\n",
              "      --bg-color: #E8F0FE;\n",
              "      --fill-color: #1967D2;\n",
              "      --hover-bg-color: #E2EBFA;\n",
              "      --hover-fill-color: #174EA6;\n",
              "      --disabled-fill-color: #AAA;\n",
              "      --disabled-bg-color: #DDD;\n",
              "  }\n",
              "\n",
              "  [theme=dark] .colab-df-quickchart {\n",
              "      --bg-color: #3B4455;\n",
              "      --fill-color: #D2E3FC;\n",
              "      --hover-bg-color: #434B5C;\n",
              "      --hover-fill-color: #FFFFFF;\n",
              "      --disabled-bg-color: #3B4455;\n",
              "      --disabled-fill-color: #666;\n",
              "  }\n",
              "\n",
              "  .colab-df-quickchart {\n",
              "    background-color: var(--bg-color);\n",
              "    border: none;\n",
              "    border-radius: 50%;\n",
              "    cursor: pointer;\n",
              "    display: none;\n",
              "    fill: var(--fill-color);\n",
              "    height: 32px;\n",
              "    padding: 0;\n",
              "    width: 32px;\n",
              "  }\n",
              "\n",
              "  .colab-df-quickchart:hover {\n",
              "    background-color: var(--hover-bg-color);\n",
              "    box-shadow: 0 1px 2px rgba(60, 64, 67, 0.3), 0 1px 3px 1px rgba(60, 64, 67, 0.15);\n",
              "    fill: var(--button-hover-fill-color);\n",
              "  }\n",
              "\n",
              "  .colab-df-quickchart-complete:disabled,\n",
              "  .colab-df-quickchart-complete:disabled:hover {\n",
              "    background-color: var(--disabled-bg-color);\n",
              "    fill: var(--disabled-fill-color);\n",
              "    box-shadow: none;\n",
              "  }\n",
              "\n",
              "  .colab-df-spinner {\n",
              "    border: 2px solid var(--fill-color);\n",
              "    border-color: transparent;\n",
              "    border-bottom-color: var(--fill-color);\n",
              "    animation:\n",
              "      spin 1s steps(1) infinite;\n",
              "  }\n",
              "\n",
              "  @keyframes spin {\n",
              "    0% {\n",
              "      border-color: transparent;\n",
              "      border-bottom-color: var(--fill-color);\n",
              "      border-left-color: var(--fill-color);\n",
              "    }\n",
              "    20% {\n",
              "      border-color: transparent;\n",
              "      border-left-color: var(--fill-color);\n",
              "      border-top-color: var(--fill-color);\n",
              "    }\n",
              "    30% {\n",
              "      border-color: transparent;\n",
              "      border-left-color: var(--fill-color);\n",
              "      border-top-color: var(--fill-color);\n",
              "      border-right-color: var(--fill-color);\n",
              "    }\n",
              "    40% {\n",
              "      border-color: transparent;\n",
              "      border-right-color: var(--fill-color);\n",
              "      border-top-color: var(--fill-color);\n",
              "    }\n",
              "    60% {\n",
              "      border-color: transparent;\n",
              "      border-right-color: var(--fill-color);\n",
              "    }\n",
              "    80% {\n",
              "      border-color: transparent;\n",
              "      border-right-color: var(--fill-color);\n",
              "      border-bottom-color: var(--fill-color);\n",
              "    }\n",
              "    90% {\n",
              "      border-color: transparent;\n",
              "      border-bottom-color: var(--fill-color);\n",
              "    }\n",
              "  }\n",
              "</style>\n",
              "\n",
              "  <script>\n",
              "    async function quickchart(key) {\n",
              "      const quickchartButtonEl =\n",
              "        document.querySelector('#' + key + ' button');\n",
              "      quickchartButtonEl.disabled = true;  // To prevent multiple clicks.\n",
              "      quickchartButtonEl.classList.add('colab-df-spinner');\n",
              "      try {\n",
              "        const charts = await google.colab.kernel.invokeFunction(\n",
              "            'suggestCharts', [key], {});\n",
              "      } catch (error) {\n",
              "        console.error('Error during call to suggestCharts:', error);\n",
              "      }\n",
              "      quickchartButtonEl.classList.remove('colab-df-spinner');\n",
              "      quickchartButtonEl.classList.add('colab-df-quickchart-complete');\n",
              "    }\n",
              "    (() => {\n",
              "      let quickchartButtonEl =\n",
              "        document.querySelector('#df-aed6b8a9-023b-4002-8e6e-2d8af9936ed0 button');\n",
              "      quickchartButtonEl.style.display =\n",
              "        google.colab.kernel.accessAllowed ? 'block' : 'none';\n",
              "    })();\n",
              "  </script>\n",
              "</div>\n",
              "    </div>\n",
              "  </div>\n"
            ]
          },
          "metadata": {},
          "execution_count": 53
        }
      ]
    },
    {
      "cell_type": "code",
      "source": [
        "X_new = dt_new[['OD280_or_OD315', 'total_phenols', 'flavanoids']].values\n",
        "X_new"
      ],
      "metadata": {
        "id": "38A0h0rfqB5z",
        "colab": {
          "base_uri": "https://localhost:8080/"
        },
        "outputId": "066b7fec-a43f-45e9-cb61-26f5054c6f30"
      },
      "execution_count": null,
      "outputs": [
        {
          "output_type": "execute_result",
          "data": {
            "text/plain": [
              "array([[3.92, 2.8 , 3.29],\n",
              "       [1.6 , 2.6 , 2.68],\n",
              "       [2.7 , 2.3 , 3.56],\n",
              "       [3.1 , 1.83, 2.63],\n",
              "       [1.2 , 1.65, 3.  ],\n",
              "       [1.6 , 1.39, 2.65],\n",
              "       [2.2 , 1.35, 3.17],\n",
              "       [2.85, 1.28, 3.39],\n",
              "       [3.55, 1.7 , 2.92],\n",
              "       [3.17, 1.48, 3.54],\n",
              "       [2.82, 1.55, 3.27],\n",
              "       [2.9 , 1.98, 2.99],\n",
              "       [2.73, 1.25, 3.74],\n",
              "       [3.  , 1.39, 2.79],\n",
              "       [2.11, 1.68, 2.9 ]])"
            ]
          },
          "metadata": {},
          "execution_count": 54
        }
      ]
    },
    {
      "cell_type": "code",
      "source": [
        "model4.fit(X_train, y_train)"
      ],
      "metadata": {
        "colab": {
          "base_uri": "https://localhost:8080/",
          "height": 74
        },
        "id": "ykuZtVqbpz8U",
        "outputId": "9d4a399d-709e-4df1-c2a4-ded7f7a80cd0"
      },
      "execution_count": null,
      "outputs": [
        {
          "output_type": "execute_result",
          "data": {
            "text/plain": [
              "GaussianNB()"
            ],
            "text/html": [
              "<style>#sk-container-id-1 {color: black;background-color: white;}#sk-container-id-1 pre{padding: 0;}#sk-container-id-1 div.sk-toggleable {background-color: white;}#sk-container-id-1 label.sk-toggleable__label {cursor: pointer;display: block;width: 100%;margin-bottom: 0;padding: 0.3em;box-sizing: border-box;text-align: center;}#sk-container-id-1 label.sk-toggleable__label-arrow:before {content: \"▸\";float: left;margin-right: 0.25em;color: #696969;}#sk-container-id-1 label.sk-toggleable__label-arrow:hover:before {color: black;}#sk-container-id-1 div.sk-estimator:hover label.sk-toggleable__label-arrow:before {color: black;}#sk-container-id-1 div.sk-toggleable__content {max-height: 0;max-width: 0;overflow: hidden;text-align: left;background-color: #f0f8ff;}#sk-container-id-1 div.sk-toggleable__content pre {margin: 0.2em;color: black;border-radius: 0.25em;background-color: #f0f8ff;}#sk-container-id-1 input.sk-toggleable__control:checked~div.sk-toggleable__content {max-height: 200px;max-width: 100%;overflow: auto;}#sk-container-id-1 input.sk-toggleable__control:checked~label.sk-toggleable__label-arrow:before {content: \"▾\";}#sk-container-id-1 div.sk-estimator input.sk-toggleable__control:checked~label.sk-toggleable__label {background-color: #d4ebff;}#sk-container-id-1 div.sk-label input.sk-toggleable__control:checked~label.sk-toggleable__label {background-color: #d4ebff;}#sk-container-id-1 input.sk-hidden--visually {border: 0;clip: rect(1px 1px 1px 1px);clip: rect(1px, 1px, 1px, 1px);height: 1px;margin: -1px;overflow: hidden;padding: 0;position: absolute;width: 1px;}#sk-container-id-1 div.sk-estimator {font-family: monospace;background-color: #f0f8ff;border: 1px dotted black;border-radius: 0.25em;box-sizing: border-box;margin-bottom: 0.5em;}#sk-container-id-1 div.sk-estimator:hover {background-color: #d4ebff;}#sk-container-id-1 div.sk-parallel-item::after {content: \"\";width: 100%;border-bottom: 1px solid gray;flex-grow: 1;}#sk-container-id-1 div.sk-label:hover label.sk-toggleable__label {background-color: #d4ebff;}#sk-container-id-1 div.sk-serial::before {content: \"\";position: absolute;border-left: 1px solid gray;box-sizing: border-box;top: 0;bottom: 0;left: 50%;z-index: 0;}#sk-container-id-1 div.sk-serial {display: flex;flex-direction: column;align-items: center;background-color: white;padding-right: 0.2em;padding-left: 0.2em;position: relative;}#sk-container-id-1 div.sk-item {position: relative;z-index: 1;}#sk-container-id-1 div.sk-parallel {display: flex;align-items: stretch;justify-content: center;background-color: white;position: relative;}#sk-container-id-1 div.sk-item::before, #sk-container-id-1 div.sk-parallel-item::before {content: \"\";position: absolute;border-left: 1px solid gray;box-sizing: border-box;top: 0;bottom: 0;left: 50%;z-index: -1;}#sk-container-id-1 div.sk-parallel-item {display: flex;flex-direction: column;z-index: 1;position: relative;background-color: white;}#sk-container-id-1 div.sk-parallel-item:first-child::after {align-self: flex-end;width: 50%;}#sk-container-id-1 div.sk-parallel-item:last-child::after {align-self: flex-start;width: 50%;}#sk-container-id-1 div.sk-parallel-item:only-child::after {width: 0;}#sk-container-id-1 div.sk-dashed-wrapped {border: 1px dashed gray;margin: 0 0.4em 0.5em 0.4em;box-sizing: border-box;padding-bottom: 0.4em;background-color: white;}#sk-container-id-1 div.sk-label label {font-family: monospace;font-weight: bold;display: inline-block;line-height: 1.2em;}#sk-container-id-1 div.sk-label-container {text-align: center;}#sk-container-id-1 div.sk-container {/* jupyter's `normalize.less` sets `[hidden] { display: none; }` but bootstrap.min.css set `[hidden] { display: none !important; }` so we also need the `!important` here to be able to override the default hidden behavior on the sphinx rendered scikit-learn.org. See: https://github.com/scikit-learn/scikit-learn/issues/21755 */display: inline-block !important;position: relative;}#sk-container-id-1 div.sk-text-repr-fallback {display: none;}</style><div id=\"sk-container-id-1\" class=\"sk-top-container\"><div class=\"sk-text-repr-fallback\"><pre>GaussianNB()</pre><b>In a Jupyter environment, please rerun this cell to show the HTML representation or trust the notebook. <br />On GitHub, the HTML representation is unable to render, please try loading this page with nbviewer.org.</b></div><div class=\"sk-container\" hidden><div class=\"sk-item\"><div class=\"sk-estimator sk-toggleable\"><input class=\"sk-toggleable__control sk-hidden--visually\" id=\"sk-estimator-id-1\" type=\"checkbox\" checked><label for=\"sk-estimator-id-1\" class=\"sk-toggleable__label sk-toggleable__label-arrow\">GaussianNB</label><div class=\"sk-toggleable__content\"><pre>GaussianNB()</pre></div></div></div></div></div>"
            ]
          },
          "metadata": {},
          "execution_count": 55
        }
      ]
    },
    {
      "cell_type": "code",
      "source": [
        "y_new_pred = model4.predict(X_new)\n",
        "print(y_new_pred)"
      ],
      "metadata": {
        "colab": {
          "base_uri": "https://localhost:8080/"
        },
        "id": "5itn27T1p7qN",
        "outputId": "38b312d8-584c-4272-ac54-f4642ed7bf80"
      },
      "execution_count": null,
      "outputs": [
        {
          "output_type": "stream",
          "name": "stdout",
          "text": [
            "[1 2 2 2 2 2 2 2 2 2 2 2 2 2 2]\n"
          ]
        },
        {
          "output_type": "stream",
          "name": "stderr",
          "text": [
            "/usr/local/lib/python3.10/dist-packages/sklearn/base.py:439: UserWarning: X does not have valid feature names, but GaussianNB was fitted with feature names\n",
            "  warnings.warn(\n"
          ]
        }
      ]
    }
  ]
}